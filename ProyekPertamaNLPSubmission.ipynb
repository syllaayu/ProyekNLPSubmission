{
  "nbformat": 4,
  "nbformat_minor": 0,
  "metadata": {
    "colab": {
      "name": "ProyekPertamaNLP.ipynb",
      "provenance": [],
      "collapsed_sections": []
    },
    "kernelspec": {
      "name": "python3",
      "display_name": "Python 3"
    },
    "language_info": {
      "name": "python"
    }
  },
  "cells": [
    {
      "cell_type": "code",
      "metadata": {
        "id": "zrg4Vbu9c0uq"
      },
      "source": [
        "import pandas as pd\n",
        "import tensorflow as tf\n",
        "import matplotlib.pyplot as plt\n",
        "from sklearn.model_selection import train_test_split\n",
        "from tensorflow.keras.preprocessing.text import Tokenizer\n",
        "from tensorflow.keras.preprocessing.sequence import pad_sequences"
      ],
      "execution_count": 14,
      "outputs": []
    },
    {
      "cell_type": "code",
      "metadata": {
        "id": "dQZGG5DndGem"
      },
      "source": [
        "df = pd.read_csv('Review.csv')"
      ],
      "execution_count": 6,
      "outputs": []
    },
    {
      "cell_type": "code",
      "metadata": {
        "colab": {
          "base_uri": "https://localhost:8080/",
          "height": 204
        },
        "id": "8c564fNAdaE7",
        "outputId": "e09bcdd9-586e-4efa-d18a-4120dc4cf85f"
      },
      "source": [
        "df.head()"
      ],
      "execution_count": 7,
      "outputs": [
        {
          "output_type": "execute_result",
          "data": {
            "text/html": [
              "<div>\n",
              "<style scoped>\n",
              "    .dataframe tbody tr th:only-of-type {\n",
              "        vertical-align: middle;\n",
              "    }\n",
              "\n",
              "    .dataframe tbody tr th {\n",
              "        vertical-align: top;\n",
              "    }\n",
              "\n",
              "    .dataframe thead th {\n",
              "        text-align: right;\n",
              "    }\n",
              "</style>\n",
              "<table border=\"1\" class=\"dataframe\">\n",
              "  <thead>\n",
              "    <tr style=\"text-align: right;\">\n",
              "      <th></th>\n",
              "      <th>sentiment</th>\n",
              "      <th>review</th>\n",
              "    </tr>\n",
              "  </thead>\n",
              "  <tbody>\n",
              "    <tr>\n",
              "      <th>0</th>\n",
              "      <td>Negative</td>\n",
              "      <td>I had no background knowledge of this movie be...</td>\n",
              "    </tr>\n",
              "    <tr>\n",
              "      <th>1</th>\n",
              "      <td>Negative</td>\n",
              "      <td>I am a huge Jane Austen fan and I ordered the ...</td>\n",
              "    </tr>\n",
              "    <tr>\n",
              "      <th>2</th>\n",
              "      <td>Negative</td>\n",
              "      <td>Nothing to say but Wow! Has anyone actually ha...</td>\n",
              "    </tr>\n",
              "    <tr>\n",
              "      <th>3</th>\n",
              "      <td>Negative</td>\n",
              "      <td>i like Jane Austin novels. I love Pride and Pr...</td>\n",
              "    </tr>\n",
              "    <tr>\n",
              "      <th>4</th>\n",
              "      <td>Negative</td>\n",
              "      <td>In this day and age of incredible special movi...</td>\n",
              "    </tr>\n",
              "  </tbody>\n",
              "</table>\n",
              "</div>"
            ],
            "text/plain": [
              "  sentiment                                             review\n",
              "0  Negative  I had no background knowledge of this movie be...\n",
              "1  Negative  I am a huge Jane Austen fan and I ordered the ...\n",
              "2  Negative  Nothing to say but Wow! Has anyone actually ha...\n",
              "3  Negative  i like Jane Austin novels. I love Pride and Pr...\n",
              "4  Negative  In this day and age of incredible special movi..."
            ]
          },
          "metadata": {},
          "execution_count": 7
        }
      ]
    },
    {
      "cell_type": "code",
      "metadata": {
        "colab": {
          "base_uri": "https://localhost:8080/"
        },
        "id": "EeYQeTt3erD-",
        "outputId": "094fbcbf-2d9f-4745-9a32-131ddbbbafc4"
      },
      "source": [
        "category = pd.get_dummies(df.sentiment)\n",
        "df_baru = pd.concat([df, category], axis=1)\n",
        "df_baru = df_baru.drop(columns='sentiment')\n",
        "df_baru.info()"
      ],
      "execution_count": 8,
      "outputs": [
        {
          "output_type": "stream",
          "name": "stdout",
          "text": [
            "<class 'pandas.core.frame.DataFrame'>\n",
            "RangeIndex: 10000 entries, 0 to 9999\n",
            "Data columns (total 3 columns):\n",
            " #   Column    Non-Null Count  Dtype \n",
            "---  ------    --------------  ----- \n",
            " 0   review    10000 non-null  object\n",
            " 1   Negative  10000 non-null  uint8 \n",
            " 2   Positive  10000 non-null  uint8 \n",
            "dtypes: object(1), uint8(2)\n",
            "memory usage: 97.8+ KB\n"
          ]
        }
      ]
    },
    {
      "cell_type": "code",
      "metadata": {
        "id": "HQb6T-vV7P_k"
      },
      "source": [
        "review = df_baru['review'].values\n",
        "y = df_baru[['Negative','Positive']].values\n",
        "review_train , review_test, y_train, y_test = train_test_split(review, y, test_size=0.2)"
      ],
      "execution_count": 9,
      "outputs": []
    },
    {
      "cell_type": "code",
      "metadata": {
        "id": "pkTdnCXI-XSx"
      },
      "source": [
        "#mengubah tipe data kata menjadi numerik\n",
        "tokenizer = Tokenizer(num_words=5600, oov_token='x')\n",
        "tokenizer.fit_on_texts(review_train)\n",
        "tokenizer.fit_on_texts(review_test)\n",
        "\n",
        "sekuens_train = tokenizer.texts_to_sequences(review_train)\n",
        "sekuens_test = tokenizer.texts_to_sequences(review_test)\n",
        "\n",
        "padded_train = pad_sequences(sekuens_train)\n",
        "padded_test = pad_sequences(sekuens_test)"
      ],
      "execution_count": 10,
      "outputs": []
    },
    {
      "cell_type": "code",
      "metadata": {
        "colab": {
          "base_uri": "https://localhost:8080/"
        },
        "id": "k_RJAZag3qNM",
        "outputId": "35ec6214-518f-42cb-fcef-5caaa50e46aa"
      },
      "source": [
        "model = tf.keras.Sequential([\n",
        "    tf.keras.layers.Embedding(input_dim=5600, output_dim=16),\n",
        "    tf.keras.layers.LSTM(64),\n",
        "    tf.keras.layers.Dense(128, activation='relu'),\n",
        "    tf.keras.layers.Dropout(0.2),\n",
        "    tf.keras.layers.Dense(64, activation='relu'),\n",
        "    tf.keras.layers.Dropout(0.5),\n",
        "    tf.keras.layers.Dense(32, activation='relu'),\n",
        "    tf.keras.layers.Dropout(0.8),\n",
        "    tf.keras.layers.Dense(2, activation='softmax'),\n",
        "])\n",
        "\n",
        "model.compile(loss='binary_crossentropy',\n",
        "              optimizer='adam',\n",
        "              metrics=['accuracy'])\n",
        "\n",
        "print(model.summary())"
      ],
      "execution_count": 11,
      "outputs": [
        {
          "output_type": "stream",
          "name": "stdout",
          "text": [
            "Model: \"sequential\"\n",
            "_________________________________________________________________\n",
            "Layer (type)                 Output Shape              Param #   \n",
            "=================================================================\n",
            "embedding (Embedding)        (None, None, 16)          89600     \n",
            "_________________________________________________________________\n",
            "lstm (LSTM)                  (None, 64)                20736     \n",
            "_________________________________________________________________\n",
            "dense (Dense)                (None, 128)               8320      \n",
            "_________________________________________________________________\n",
            "dropout (Dropout)            (None, 128)               0         \n",
            "_________________________________________________________________\n",
            "dense_1 (Dense)              (None, 64)                8256      \n",
            "_________________________________________________________________\n",
            "dropout_1 (Dropout)          (None, 64)                0         \n",
            "_________________________________________________________________\n",
            "dense_2 (Dense)              (None, 32)                2080      \n",
            "_________________________________________________________________\n",
            "dropout_2 (Dropout)          (None, 32)                0         \n",
            "_________________________________________________________________\n",
            "dense_3 (Dense)              (None, 2)                 66        \n",
            "=================================================================\n",
            "Total params: 129,058\n",
            "Trainable params: 129,058\n",
            "Non-trainable params: 0\n",
            "_________________________________________________________________\n",
            "None\n"
          ]
        }
      ]
    },
    {
      "cell_type": "code",
      "metadata": {
        "id": "iRhU2xGLv_uP"
      },
      "source": [
        "class myCallback(tf.keras.callbacks.Callback):\n",
        "  def on_epoch_end(self, epoch, logs={}):\n",
        "    if(logs.get('accuracy')>0.98):\n",
        "      print(\"\\nAkurasi telah mencapai >99%!\")\n",
        "      self.model.stop_training = True\n",
        "callbacks = myCallback()"
      ],
      "execution_count": 12,
      "outputs": []
    },
    {
      "cell_type": "code",
      "metadata": {
        "colab": {
          "base_uri": "https://localhost:8080/"
        },
        "id": "ey77A0HI4UFY",
        "outputId": "795bd8c2-4dc2-413e-f6c3-b162dba7cf20"
      },
      "source": [
        "# memanggil fungsi dengan fit\n",
        "num_epochs = 45 #jumlah epochs\n",
        "history = model.fit(padded_train, y_train, epochs=num_epochs,\n",
        "                    validation_data=(padded_test, y_test), verbose=2, callbacks=[callbacks])"
      ],
      "execution_count": 13,
      "outputs": [
        {
          "output_type": "stream",
          "name": "stdout",
          "text": [
            "Epoch 1/45\n",
            "250/250 - 171s - loss: 0.6933 - accuracy: 0.5272 - val_loss: 0.6342 - val_accuracy: 0.7125\n",
            "Epoch 2/45\n",
            "250/250 - 168s - loss: 0.5428 - accuracy: 0.7465 - val_loss: 0.4166 - val_accuracy: 0.8060\n",
            "Epoch 3/45\n",
            "250/250 - 169s - loss: 0.3762 - accuracy: 0.8558 - val_loss: 0.3949 - val_accuracy: 0.8260\n",
            "Epoch 4/45\n",
            "250/250 - 164s - loss: 0.3269 - accuracy: 0.8820 - val_loss: 0.4260 - val_accuracy: 0.8335\n",
            "Epoch 5/45\n",
            "250/250 - 164s - loss: 0.2478 - accuracy: 0.9136 - val_loss: 0.4747 - val_accuracy: 0.8415\n",
            "Epoch 6/45\n",
            "250/250 - 164s - loss: 0.1998 - accuracy: 0.9337 - val_loss: 0.7754 - val_accuracy: 0.7770\n",
            "Epoch 7/45\n",
            "250/250 - 162s - loss: 0.1674 - accuracy: 0.9385 - val_loss: 0.6900 - val_accuracy: 0.8395\n",
            "Epoch 8/45\n",
            "250/250 - 163s - loss: 0.1252 - accuracy: 0.9579 - val_loss: 0.8592 - val_accuracy: 0.8355\n",
            "Epoch 9/45\n",
            "250/250 - 167s - loss: 0.1041 - accuracy: 0.9626 - val_loss: 1.0303 - val_accuracy: 0.8385\n",
            "Epoch 10/45\n",
            "250/250 - 163s - loss: 0.0885 - accuracy: 0.9650 - val_loss: 1.0214 - val_accuracy: 0.8280\n",
            "Epoch 11/45\n",
            "250/250 - 163s - loss: 0.0683 - accuracy: 0.9754 - val_loss: 1.2637 - val_accuracy: 0.8285\n",
            "Epoch 12/45\n",
            "250/250 - 164s - loss: 0.0941 - accuracy: 0.9645 - val_loss: 1.2010 - val_accuracy: 0.8330\n",
            "Epoch 13/45\n",
            "250/250 - 162s - loss: 0.0919 - accuracy: 0.9646 - val_loss: 1.2477 - val_accuracy: 0.8115\n",
            "Epoch 14/45\n",
            "250/250 - 164s - loss: 0.0790 - accuracy: 0.9696 - val_loss: 0.9752 - val_accuracy: 0.8125\n",
            "Epoch 15/45\n",
            "250/250 - 163s - loss: 0.0501 - accuracy: 0.9784 - val_loss: 1.6068 - val_accuracy: 0.8330\n",
            "Epoch 16/45\n",
            "250/250 - 163s - loss: 0.0314 - accuracy: 0.9844 - val_loss: 2.2393 - val_accuracy: 0.8210\n",
            "\n",
            "Akurasi telah mencapai >99%!\n"
          ]
        }
      ]
    },
    {
      "cell_type": "code",
      "metadata": {
        "colab": {
          "base_uri": "https://localhost:8080/",
          "height": 295
        },
        "id": "IReRvmoYrQUn",
        "outputId": "e9df429e-0633-4179-c1b1-05b8e829a105"
      },
      "source": [
        "plt.plot(history.history['accuracy'])\n",
        "plt.plot(history.history['val_accuracy'])\n",
        "\n",
        "plt.title('Model Accuracy')\n",
        "plt.ylabel('Accuracy')\n",
        "plt.xlabel('Epoch')\n",
        "\n",
        "plt.legend(['Train', 'Test'], loc='lower right')\n",
        "plt.show()"
      ],
      "execution_count": 16,
      "outputs": [
        {
          "output_type": "display_data",
          "data": {
            "image/png": "[encoded data removed]",
            "text/plain": [
              "<Figure size 432x288 with 1 Axes>"
            ]
          },
          "metadata": {
            "needs_background": "light"
          }
        }
      ]
    }
  ]
}